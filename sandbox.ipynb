{
 "metadata": {
  "language_info": {
   "codemirror_mode": {
    "name": "ipython",
    "version": 3
   },
   "file_extension": ".py",
   "mimetype": "text/x-python",
   "name": "python",
   "nbconvert_exporter": "python",
   "pygments_lexer": "ipython3",
   "version": "3.8.6"
  },
  "orig_nbformat": 2,
  "kernelspec": {
   "name": "python386jvsc74a57bd0936c65cdc2dc93e82ac831fcb0394e2a209b6bbabb2650b161b7e8129a892869",
   "display_name": "Python 3.8.6 64-bit ('todoist': virtualenvwrapper)"
  },
  "metadata": {
   "interpreter": {
    "hash": "936c65cdc2dc93e82ac831fcb0394e2a209b6bbabb2650b161b7e8129a892869"
   }
  }
 },
 "nbformat": 4,
 "nbformat_minor": 2,
 "cells": [
  {
   "cell_type": "code",
   "execution_count": 1,
   "metadata": {},
   "outputs": [],
   "source": [
    "from todoist import TodoistAPI\n",
    "from pydoist.api.project import ProjectApi\n",
    "api = TodoistAPI('a256127132088503212ed304625e0400f54a3117')\n",
    "project_api = ProjectApi(api)"
   ]
  },
  {
   "source": [
    "# Get a Project"
   ],
   "cell_type": "markdown",
   "metadata": {}
  },
  {
   "cell_type": "code",
   "execution_count": 3,
   "metadata": {},
   "outputs": [],
   "source": [
    "project_list = project_api.retrieve_all()"
   ]
  },
  {
   "cell_type": "code",
   "execution_count": 4,
   "metadata": {},
   "outputs": [
    {
     "output_type": "execute_result",
     "data": {
      "text/plain": [
       "[('Inbox', 2266841097),\n",
       " ('📓 Personal', 2266883000),\n",
       " ('🤑 Freelance', 2266954046),\n",
       " ('🗃️ Projects', 2266951029),\n",
       " ('📚 Universidad', 2266858499),\n",
       " ('💻 Work', 2266893848)]"
      ]
     },
     "metadata": {},
     "execution_count": 4
    }
   ],
   "source": [
    "[(proj.name,proj.id) for proj in project_list]"
   ]
  },
  {
   "cell_type": "code",
   "execution_count": 6,
   "metadata": {},
   "outputs": [
    {
     "output_type": "error",
     "ename": "ValidationError",
     "evalue": "2 validation errors for ProjectInfoModel\nnotes -> 0 -> item_id\n  field required (type=value_error.missing)\nnotes -> 0 -> reactions\n  none is not an allowed value (type=type_error.none.not_allowed)",
     "traceback": [
      "\u001b[0;31m---------------------------------------------------------------------------\u001b[0m",
      "\u001b[0;31mValidationError\u001b[0m                           Traceback (most recent call last)",
      "\u001b[0;32m<ipython-input-6-58e48a78b066>\u001b[0m in \u001b[0;36m<module>\u001b[0;34m\u001b[0m\n\u001b[0;32m----> 1\u001b[0;31m \u001b[0minbox_info\u001b[0m \u001b[0;34m=\u001b[0m \u001b[0mproject_api\u001b[0m\u001b[0;34m.\u001b[0m\u001b[0mretrieve_info\u001b[0m\u001b[0;34m(\u001b[0m\u001b[0;36m2266883000\u001b[0m\u001b[0;34m)\u001b[0m\u001b[0;34m\u001b[0m\u001b[0;34m\u001b[0m\u001b[0m\n\u001b[0m\u001b[1;32m      2\u001b[0m \u001b[0minbox_info\u001b[0m\u001b[0;34m\u001b[0m\u001b[0;34m\u001b[0m\u001b[0m\n",
      "\u001b[0;32m~/documents/code/automation/python-api-wrappers/todoist/pydoist/api/project.py\u001b[0m in \u001b[0;36mretrieve_info\u001b[0;34m(self, id)\u001b[0m\n\u001b[1;32m     44\u001b[0m     \u001b[0;32mdef\u001b[0m \u001b[0mretrieve_info\u001b[0m\u001b[0;34m(\u001b[0m\u001b[0mself\u001b[0m\u001b[0;34m,\u001b[0m \u001b[0mid\u001b[0m\u001b[0;34m:\u001b[0m \u001b[0mint\u001b[0m\u001b[0;34m)\u001b[0m \u001b[0;34m->\u001b[0m \u001b[0mAny\u001b[0m\u001b[0;34m:\u001b[0m\u001b[0;34m\u001b[0m\u001b[0;34m\u001b[0m\u001b[0m\n\u001b[1;32m     45\u001b[0m         \u001b[0minfo\u001b[0m \u001b[0;34m=\u001b[0m \u001b[0mself\u001b[0m\u001b[0;34m.\u001b[0m\u001b[0mapi\u001b[0m\u001b[0;34m.\u001b[0m\u001b[0mprojects\u001b[0m\u001b[0;34m.\u001b[0m\u001b[0mget\u001b[0m\u001b[0;34m(\u001b[0m\u001b[0mid\u001b[0m\u001b[0;34m)\u001b[0m\u001b[0;34m\u001b[0m\u001b[0;34m\u001b[0m\u001b[0m\n\u001b[0;32m---> 46\u001b[0;31m         \u001b[0;32mreturn\u001b[0m \u001b[0mProjectInfoModel\u001b[0m\u001b[0;34m(\u001b[0m\u001b[0;34m**\u001b[0m\u001b[0minfo\u001b[0m\u001b[0;34m)\u001b[0m\u001b[0;34m\u001b[0m\u001b[0;34m\u001b[0m\u001b[0m\n\u001b[0m\u001b[1;32m     47\u001b[0m \u001b[0;34m\u001b[0m\u001b[0m\n\u001b[1;32m     48\u001b[0m     \u001b[0;32mdef\u001b[0m \u001b[0mretrieve_all\u001b[0m\u001b[0;34m(\u001b[0m\u001b[0mself\u001b[0m\u001b[0;34m)\u001b[0m \u001b[0;34m->\u001b[0m \u001b[0mAny\u001b[0m\u001b[0;34m:\u001b[0m\u001b[0;34m\u001b[0m\u001b[0;34m\u001b[0m\u001b[0m\n",
      "\u001b[0;32m~/.config/virtualenvs/todoist/lib/python3.8/site-packages/pydantic/main.cpython-38-x86_64-linux-gnu.so\u001b[0m in \u001b[0;36mpydantic.main.BaseModel.__init__\u001b[0;34m()\u001b[0m\n",
      "\u001b[0;31mValidationError\u001b[0m: 2 validation errors for ProjectInfoModel\nnotes -> 0 -> item_id\n  field required (type=value_error.missing)\nnotes -> 0 -> reactions\n  none is not an allowed value (type=type_error.none.not_allowed)"
     ]
    }
   ],
   "source": [
    "inbox_info = project_api.retrieve_info(2266883000)\n",
    "inbox_info"
   ]
  },
  {
   "cell_type": "code",
   "execution_count": 7,
   "metadata": {},
   "outputs": [
    {
     "output_type": "error",
     "ename": "ValidationError",
     "evalue": "50 validation errors for ProjectDataModel\nnotes\n  field required (type=value_error.missing)\nitems -> 0 -> legacy_id\n  field required (type=value_error.missing)\nitems -> 0 -> legacy_project_id\n  field required (type=value_error.missing)\nitems -> 0 -> day_order\n  field required (type=value_error.missing)\nitems -> 0 -> assigned_by_uid\n  none is not an allowed value (type=type_error.none.not_allowed)\nitems -> 1 -> legacy_id\n  field required (type=value_error.missing)\nitems -> 1 -> legacy_project_id\n  field required (type=value_error.missing)\nitems -> 1 -> day_order\n  field required (type=value_error.missing)\nitems -> 1 -> assigned_by_uid\n  none is not an allowed value (type=type_error.none.not_allowed)\nitems -> 2 -> legacy_id\n  field required (type=value_error.missing)\nitems -> 2 -> legacy_project_id\n  field required (type=value_error.missing)\nitems -> 2 -> day_order\n  field required (type=value_error.missing)\nitems -> 2 -> assigned_by_uid\n  none is not an allowed value (type=type_error.none.not_allowed)\nitems -> 3 -> legacy_id\n  field required (type=value_error.missing)\nitems -> 3 -> legacy_project_id\n  field required (type=value_error.missing)\nitems -> 3 -> day_order\n  field required (type=value_error.missing)\nitems -> 3 -> assigned_by_uid\n  none is not an allowed value (type=type_error.none.not_allowed)\nitems -> 4 -> legacy_id\n  field required (type=value_error.missing)\nitems -> 4 -> legacy_project_id\n  field required (type=value_error.missing)\nitems -> 4 -> day_order\n  field required (type=value_error.missing)\nitems -> 4 -> assigned_by_uid\n  none is not an allowed value (type=type_error.none.not_allowed)\nitems -> 5 -> legacy_id\n  field required (type=value_error.missing)\nitems -> 5 -> legacy_project_id\n  field required (type=value_error.missing)\nitems -> 5 -> day_order\n  field required (type=value_error.missing)\nitems -> 5 -> assigned_by_uid\n  none is not an allowed value (type=type_error.none.not_allowed)\nitems -> 6 -> legacy_id\n  field required (type=value_error.missing)\nitems -> 6 -> legacy_project_id\n  field required (type=value_error.missing)\nitems -> 6 -> day_order\n  field required (type=value_error.missing)\nitems -> 6 -> assigned_by_uid\n  none is not an allowed value (type=type_error.none.not_allowed)\nitems -> 7 -> legacy_id\n  field required (type=value_error.missing)\nitems -> 7 -> legacy_project_id\n  field required (type=value_error.missing)\nitems -> 7 -> day_order\n  field required (type=value_error.missing)\nitems -> 7 -> assigned_by_uid\n  none is not an allowed value (type=type_error.none.not_allowed)\nitems -> 8 -> legacy_id\n  field required (type=value_error.missing)\nitems -> 8 -> legacy_project_id\n  field required (type=value_error.missing)\nitems -> 8 -> day_order\n  field required (type=value_error.missing)\nitems -> 8 -> assigned_by_uid\n  none is not an allowed value (type=type_error.none.not_allowed)\nitems -> 9 -> legacy_id\n  field required (type=value_error.missing)\nitems -> 9 -> legacy_project_id\n  field required (type=value_error.missing)\nitems -> 9 -> day_order\n  field required (type=value_error.missing)\nitems -> 9 -> assigned_by_uid\n  none is not an allowed value (type=type_error.none.not_allowed)\nsections -> 0 -> legacy_project_id\n  field required (type=value_error.missing)\nsections -> 1 -> legacy_project_id\n  field required (type=value_error.missing)\nsections -> 2 -> legacy_project_id\n  field required (type=value_error.missing)\nproject_notes -> 0 -> legacy_id\n  field required (type=value_error.missing)\nproject_notes -> 0 -> item_id\n  field required (type=value_error.missing)\nproject_notes -> 0 -> legacy_project_id\n  field required (type=value_error.missing)\nproject_notes -> 0 -> legacy_item_id\n  field required (type=value_error.missing)\nproject_notes -> 0 -> file_attachment\n  none is not an allowed value (type=type_error.none.not_allowed)\nproject_notes -> 0 -> reactions\n  none is not an allowed value (type=type_error.none.not_allowed)",
     "traceback": [
      "\u001b[0;31m---------------------------------------------------------------------------\u001b[0m",
      "\u001b[0;31mValidationError\u001b[0m                           Traceback (most recent call last)",
      "\u001b[0;32m<ipython-input-7-d1555f8963f5>\u001b[0m in \u001b[0;36m<module>\u001b[0;34m\u001b[0m\n\u001b[0;32m----> 1\u001b[0;31m \u001b[0minbox_data\u001b[0m \u001b[0;34m=\u001b[0m \u001b[0mproject_api\u001b[0m\u001b[0;34m.\u001b[0m\u001b[0mretrieve_data\u001b[0m\u001b[0;34m(\u001b[0m\u001b[0;36m2266883000\u001b[0m\u001b[0;34m)\u001b[0m\u001b[0;34m\u001b[0m\u001b[0;34m\u001b[0m\u001b[0m\n\u001b[0m\u001b[1;32m      2\u001b[0m \u001b[0minbox_data\u001b[0m\u001b[0;34m\u001b[0m\u001b[0;34m\u001b[0m\u001b[0m\n",
      "\u001b[0;32m~/documents/code/automation/python-api-wrappers/todoist/pydoist/api/project.py\u001b[0m in \u001b[0;36mretrieve_data\u001b[0;34m(self, id)\u001b[0m\n\u001b[1;32m     40\u001b[0m     \u001b[0;32mdef\u001b[0m \u001b[0mretrieve_data\u001b[0m\u001b[0;34m(\u001b[0m\u001b[0mself\u001b[0m\u001b[0;34m,\u001b[0m \u001b[0mid\u001b[0m\u001b[0;34m:\u001b[0m \u001b[0mint\u001b[0m\u001b[0;34m)\u001b[0m \u001b[0;34m->\u001b[0m \u001b[0mAny\u001b[0m\u001b[0;34m:\u001b[0m\u001b[0;34m\u001b[0m\u001b[0;34m\u001b[0m\u001b[0m\n\u001b[1;32m     41\u001b[0m         \u001b[0minfo\u001b[0m \u001b[0;34m=\u001b[0m \u001b[0mself\u001b[0m\u001b[0;34m.\u001b[0m\u001b[0mapi\u001b[0m\u001b[0;34m.\u001b[0m\u001b[0mprojects\u001b[0m\u001b[0;34m.\u001b[0m\u001b[0mget_data\u001b[0m\u001b[0;34m(\u001b[0m\u001b[0mid\u001b[0m\u001b[0;34m)\u001b[0m\u001b[0;34m\u001b[0m\u001b[0;34m\u001b[0m\u001b[0m\n\u001b[0;32m---> 42\u001b[0;31m         \u001b[0;32mreturn\u001b[0m \u001b[0mProjectDataModel\u001b[0m\u001b[0;34m(\u001b[0m\u001b[0;34m**\u001b[0m\u001b[0minfo\u001b[0m\u001b[0;34m)\u001b[0m\u001b[0;34m\u001b[0m\u001b[0;34m\u001b[0m\u001b[0m\n\u001b[0m\u001b[1;32m     43\u001b[0m \u001b[0;34m\u001b[0m\u001b[0m\n\u001b[1;32m     44\u001b[0m     \u001b[0;32mdef\u001b[0m \u001b[0mretrieve_info\u001b[0m\u001b[0;34m(\u001b[0m\u001b[0mself\u001b[0m\u001b[0;34m,\u001b[0m \u001b[0mid\u001b[0m\u001b[0;34m:\u001b[0m \u001b[0mint\u001b[0m\u001b[0;34m)\u001b[0m \u001b[0;34m->\u001b[0m \u001b[0mAny\u001b[0m\u001b[0;34m:\u001b[0m\u001b[0;34m\u001b[0m\u001b[0;34m\u001b[0m\u001b[0m\n",
      "\u001b[0;32m~/.config/virtualenvs/todoist/lib/python3.8/site-packages/pydantic/main.cpython-38-x86_64-linux-gnu.so\u001b[0m in \u001b[0;36mpydantic.main.BaseModel.__init__\u001b[0;34m()\u001b[0m\n",
      "\u001b[0;31mValidationError\u001b[0m: 50 validation errors for ProjectDataModel\nnotes\n  field required (type=value_error.missing)\nitems -> 0 -> legacy_id\n  field required (type=value_error.missing)\nitems -> 0 -> legacy_project_id\n  field required (type=value_error.missing)\nitems -> 0 -> day_order\n  field required (type=value_error.missing)\nitems -> 0 -> assigned_by_uid\n  none is not an allowed value (type=type_error.none.not_allowed)\nitems -> 1 -> legacy_id\n  field required (type=value_error.missing)\nitems -> 1 -> legacy_project_id\n  field required (type=value_error.missing)\nitems -> 1 -> day_order\n  field required (type=value_error.missing)\nitems -> 1 -> assigned_by_uid\n  none is not an allowed value (type=type_error.none.not_allowed)\nitems -> 2 -> legacy_id\n  field required (type=value_error.missing)\nitems -> 2 -> legacy_project_id\n  field required (type=value_error.missing)\nitems -> 2 -> day_order\n  field required (type=value_error.missing)\nitems -> 2 -> assigned_by_uid\n  none is not an allowed value (type=type_error.none.not_allowed)\nitems -> 3 -> legacy_id\n  field required (type=value_error.missing)\nitems -> 3 -> legacy_project_id\n  field required (type=value_error.missing)\nitems -> 3 -> day_order\n  field required (type=value_error.missing)\nitems -> 3 -> assigned_by_uid\n  none is not an allowed value (type=type_error.none.not_allowed)\nitems -> 4 -> legacy_id\n  field required (type=value_error.missing)\nitems -> 4 -> legacy_project_id\n  field required (type=value_error.missing)\nitems -> 4 -> day_order\n  field required (type=value_error.missing)\nitems -> 4 -> assigned_by_uid\n  none is not an allowed value (type=type_error.none.not_allowed)\nitems -> 5 -> legacy_id\n  field required (type=value_error.missing)\nitems -> 5 -> legacy_project_id\n  field required (type=value_error.missing)\nitems -> 5 -> day_order\n  field required (type=value_error.missing)\nitems -> 5 -> assigned_by_uid\n  none is not an allowed value (type=type_error.none.not_allowed)\nitems -> 6 -> legacy_id\n  field required (type=value_error.missing)\nitems -> 6 -> legacy_project_id\n  field required (type=value_error.missing)\nitems -> 6 -> day_order\n  field required (type=value_error.missing)\nitems -> 6 -> assigned_by_uid\n  none is not an allowed value (type=type_error.none.not_allowed)\nitems -> 7 -> legacy_id\n  field required (type=value_error.missing)\nitems -> 7 -> legacy_project_id\n  field required (type=value_error.missing)\nitems -> 7 -> day_order\n  field required (type=value_error.missing)\nitems -> 7 -> assigned_by_uid\n  none is not an allowed value (type=type_error.none.not_allowed)\nitems -> 8 -> legacy_id\n  field required (type=value_error.missing)\nitems -> 8 -> legacy_project_id\n  field required (type=value_error.missing)\nitems -> 8 -> day_order\n  field required (type=value_error.missing)\nitems -> 8 -> assigned_by_uid\n  none is not an allowed value (type=type_error.none.not_allowed)\nitems -> 9 -> legacy_id\n  field required (type=value_error.missing)\nitems -> 9 -> legacy_project_id\n  field required (type=value_error.missing)\nitems -> 9 -> day_order\n  field required (type=value_error.missing)\nitems -> 9 -> assigned_by_uid\n  none is not an allowed value (type=type_error.none.not_allowed)\nsections -> 0 -> legacy_project_id\n  field required (type=value_error.missing)\nsections -> 1 -> legacy_project_id\n  field required (type=value_error.missing)\nsections -> 2 -> legacy_project_id\n  field required (type=value_error.missing)\nproject_notes -> 0 -> legacy_id\n  field required (type=value_error.missing)\nproject_notes -> 0 -> item_id\n  field required (type=value_error.missing)\nproject_notes -> 0 -> legacy_project_id\n  field required (type=value_error.missing)\nproject_notes -> 0 -> legacy_item_id\n  field required (type=value_error.missing)\nproject_notes -> 0 -> file_attachment\n  none is not an allowed value (type=type_error.none.not_allowed)\nproject_notes -> 0 -> reactions\n  none is not an allowed value (type=type_error.none.not_allowed)"
     ]
    }
   ],
   "source": [
    "inbox_data = project_api.retrieve_data(2266883000)\n",
    "inbox_data"
   ]
  },
  {
   "cell_type": "code",
   "execution_count": null,
   "metadata": {},
   "outputs": [],
   "source": []
  }
 ]
}